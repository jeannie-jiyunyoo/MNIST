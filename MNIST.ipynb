{
  "nbformat": 4,
  "nbformat_minor": 0,
  "metadata": {
    "colab": {
      "name": "MNIST.ipynb",
      "provenance": [],
      "collapsed_sections": []
    },
    "kernelspec": {
      "name": "python3",
      "display_name": "Python 3"
    },
    "language_info": {
      "name": "python"
    },
    "accelerator": "GPU"
  },
  "cells": [
    {
      "cell_type": "code",
      "metadata": {
        "colab": {
          "base_uri": "https://localhost:8080/"
        },
        "id": "SfACuCRiY30T",
        "outputId": "eb80d75a-1906-4515-ebac-41078431d39c"
      },
      "source": [
        "!curl -O http://yann.lecun.com/exdb/mnist/train-images-idx3-ubyte.gz\n",
        "!curl -O http://yann.lecun.com/exdb/mnist/train-labels-idx1-ubyte.gz\n",
        "!curl -O http://yann.lecun.com/exdb/mnist/t10k-images-idx3-ubyte.gz\n",
        "!curl -O http://yann.lecun.com/exdb/mnist/t10k-labels-idx1-ubyte.gz\n",
        "!gzip -d train-images-idx3-ubyte.gz\n",
        "!gzip -d train-labels-idx1-ubyte.gz\n",
        "!gzip -d t10k-images-idx3-ubyte.gz\n",
        "!gzip -d t10k-labels-idx1-ubyte.gz\n",
        "!pip install pypng"
      ],
      "execution_count": null,
      "outputs": [
        {
          "output_type": "stream",
          "name": "stdout",
          "text": [
            "  % Total    % Received % Xferd  Average Speed   Time    Time     Time  Current\n",
            "                                 Dload  Upload   Total   Spent    Left  Speed\n",
            "100 9680k  100 9680k    0     0  20.1M      0 --:--:-- --:--:-- --:--:-- 20.2M\n",
            "  % Total    % Received % Xferd  Average Speed   Time    Time     Time  Current\n",
            "                                 Dload  Upload   Total   Spent    Left  Speed\n",
            "100 28881  100 28881    0     0   256k      0 --:--:-- --:--:-- --:--:--  256k\n",
            "  % Total    % Received % Xferd  Average Speed   Time    Time     Time  Current\n",
            "                                 Dload  Upload   Total   Spent    Left  Speed\n",
            "100 1610k  100 1610k    0     0  4835k      0 --:--:-- --:--:-- --:--:-- 4821k\n",
            "  % Total    % Received % Xferd  Average Speed   Time    Time     Time  Current\n",
            "                                 Dload  Upload   Total   Spent    Left  Speed\n",
            "100  4542  100  4542    0     0  44097      0 --:--:-- --:--:-- --:--:-- 44097\n",
            "Collecting pypng\n",
            "  Downloading pypng-0.0.21-py3-none-any.whl (48 kB)\n",
            "\u001b[K     |████████████████████████████████| 48 kB 2.2 MB/s \n",
            "\u001b[?25hInstalling collected packages: pypng\n",
            "Successfully installed pypng-0.0.21\n"
          ]
        }
      ]
    },
    {
      "cell_type": "code",
      "metadata": {
        "id": "gz22qCRObLmR"
      },
      "source": [
        "import os\n",
        "import struct\n",
        "import sys\n",
        "from array import array\n",
        "from os import path\n",
        "import png\n",
        "\n",
        "def read(dataset = \"training\", path = \".\"):\n",
        "    if dataset is \"training\":\n",
        "        fname_img = os.path.join(path, 'train-images-idx3-ubyte')\n",
        "        fname_lbl = os.path.join(path, 'train-labels-idx1-ubyte')\n",
        "    elif dataset is \"testing\":\n",
        "        fname_img = os.path.join(path, 't10k-images-idx3-ubyte')\n",
        "        fname_lbl = os.path.join(path, 't10k-labels-idx1-ubyte')\n",
        "    else:\n",
        "        raise ValueError(\"dataset must be 'testing' or 'training'\")\n",
        "\n",
        "    flbl = open(fname_lbl, 'rb')\n",
        "    magic_nr, size = struct.unpack(\">II\", flbl.read(8))\n",
        "    lbl = array(\"b\", flbl.read())\n",
        "    flbl.close()\n",
        "\n",
        "    fimg = open(fname_img, 'rb')\n",
        "    magic_nr, size, rows, cols = struct.unpack(\">IIII\", fimg.read(16))\n",
        "    img = array(\"B\", fimg.read())\n",
        "    fimg.close()\n",
        "\n",
        "    return lbl, img, size, rows, cols\n",
        "\n",
        "def write_dataset(labels, data, size, rows, cols, output_dir):\n",
        "    # create output directories\n",
        "    output_dirs = [\n",
        "        path.join(output_dir, str(i))\n",
        "        for i in range(10)\n",
        "    ]\n",
        "    for dir in output_dirs:\n",
        "        if not path.exists(dir):\n",
        "            os.makedirs(dir)\n",
        "\n",
        "    # write data\n",
        "    for (i, label) in enumerate(labels):\n",
        "        output_filename = path.join(output_dirs[label], str(i) + \".png\")\n",
        "        print(\"writing \" + output_filename)\n",
        "        with open(output_filename, \"wb\") as h:\n",
        "            w = png.Writer(cols, rows, greyscale=True)\n",
        "            data_i = [\n",
        "                data[ (i*rows*cols + j*cols) : (i*rows*cols + (j+1)*cols) ]\n",
        "                for j in range(rows)\n",
        "            ]\n",
        "            w.write(h, data_i)\n",
        "\n",
        "input_path = '.'\n",
        "output_path = './mnist'\n",
        "\n",
        "for dataset in [\"training\", \"testing\"]:\n",
        "    labels, data, size, rows, cols = read(dataset, input_path)\n",
        "    write_dataset(labels, data, size, rows, cols,\n",
        "                  path.join(output_path, dataset))"
      ],
      "execution_count": null,
      "outputs": []
    },
    {
      "cell_type": "code",
      "metadata": {
        "id": "0_gRMAUjWT46"
      },
      "source": [
        "import torch\n",
        "import torchvision\n",
        "import numpy as np\n",
        "import matplotlib.pyplot as plt\n",
        "import os\n",
        "from PIL import Image"
      ],
      "execution_count": null,
      "outputs": []
    },
    {
      "cell_type": "code",
      "metadata": {
        "id": "LKRX2UdhdYU3"
      },
      "source": [
        "class MNISTDataset(torch.utils.data.Dataset):\n",
        "  def __init__(self, db_dir):\n",
        "    self.moduleToTensor = torchvision.transforms.ToTensor()\n",
        "    self.lstImgDir = []\n",
        "    self.lstLabel = []\n",
        "    for intClass in range(10):\n",
        "      for file in os.listdir(db_dir+'/'+str(intClass)):\n",
        "          if file.endswith(\".png\"):\n",
        "              self.lstImgDir.append(db_dir+'/'+str(intClass)+'/'+file)\n",
        "              self.lstLabel.append(intClass)\n",
        "\n",
        "  def __len__(self):\n",
        "    return len(self.lstImgDir)\n",
        "\n",
        "  def __getitem__(self, intIdx):\n",
        "    pilImg = Image.open(self.lstImgDir[intIdx])\n",
        "    tenImg = self.moduleToTensor(pilImg)\n",
        "\n",
        "    intLabel = self.lstLabel[intIdx]\n",
        "    tenOneHot = torch.zeros(10)\n",
        "    tenOneHot[intLabel] = 1\n",
        "    return tenImg, tenOneHot.type(torch.LongTensor)\n"
      ],
      "execution_count": null,
      "outputs": []
    },
    {
      "cell_type": "code",
      "metadata": {
        "id": "LnOD2d03kUiZ"
      },
      "source": [
        "objTrainDataset = MNISTDataset('./mnist/training')\n",
        "objTestDataset = MNISTDataset('./mnist/testing')"
      ],
      "execution_count": null,
      "outputs": []
    },
    {
      "cell_type": "code",
      "metadata": {
        "id": "k8kaAdhGiiof"
      },
      "source": [
        "class Net(torch.nn.Module):\n",
        "  def __init__(self, activation='sigmoid', initialize='uniform'):\n",
        "    super(Net, self).__init__()\n",
        "    self.fc1 = torch.nn.Linear(784,200)\n",
        "    self.fc2 = torch.nn.Linear(200,100)\n",
        "    self.fc3 = torch.nn.Linear(100,50)\n",
        "    self.fc4 = torch.nn.Linear(50,10)\n",
        "\n",
        "    if initialize == 'uniform':\n",
        "      torch.nn.init.uniform_(self.fc1.weight)\n",
        "      torch.nn.init.uniform_(self.fc2.weight)\n",
        "      torch.nn.init.uniform_(self.fc3.weight)\n",
        "      torch.nn.init.uniform_(self.fc4.weight)\n",
        "    elif initialize == 'xavier':\n",
        "      torch.nn.init.xavier_normal_(self.fc1.weight)\n",
        "      torch.nn.init.xavier_normal_(self.fc2.weight)\n",
        "      torch.nn.init.xavier_normal_(self.fc3.weight)\n",
        "      torch.nn.init.xavier_normal_(self.fc4.weight)\n",
        "    elif initialize == 'he':\n",
        "      torch.nn.init.kaiming_normal_(self.fc1.weight)\n",
        "      torch.nn.init.kaiming_normal_(self.fc2.weight)\n",
        "      torch.nn.init.kaiming_normal_(self.fc3.weight)\n",
        "      torch.nn.init.kaiming_normal_(self.fc4.weight)\n",
        "\n",
        "    if activation == 'sigmoid':\n",
        "      self.activation = torch.nn.Sigmoid()\n",
        "    elif activation == 'relu':\n",
        "      self.activation = torch.nn.ReLU()\n",
        "\n",
        "    self.softmax = torch.nn.Softmax(dim=1)\n",
        "    \n",
        "  def forward(self, x):\n",
        "    x0 = x.view(-1, 784)\n",
        "    x1 = self.fc1(x0)\n",
        "    x2 = self.activation(x1)\n",
        "    x3 = self.fc2(x2)\n",
        "    x4 = self.activation(x3)\n",
        "    x5 = self.fc3(x4)\n",
        "    x6 = self.activation(x5)\n",
        "    x7 = self.fc4(x6)\n",
        "    return self.softmax(x7)"
      ],
      "execution_count": null,
      "outputs": []
    },
    {
      "cell_type": "code",
      "metadata": {
        "id": "cdCD3TFxoPW9"
      },
      "source": [
        "moduleNet = Net(activation='sigmoid', initialize='uniform').cuda()\n",
        "\n",
        "intLR = 0.05\n",
        "intMaxEpoch = 1\n",
        "intBatchsize = 128\n",
        "\n",
        "objOptim = torch.optim.SGD(moduleNet.parameters(), lr=intLR)\n",
        "\n",
        "objTrainLoader = torch.utils.data.DataLoader(dataset=objTrainDataset, batch_size=intBatchsize, shuffle=True, num_workers=0)\n",
        "objTestLoader = torch.utils.data.DataLoader(dataset=objTestDataset, batch_size=1, shuffle=False, num_workers=0)\n",
        "\n",
        "intMaxStep = objTrainLoader.__len__()"
      ],
      "execution_count": null,
      "outputs": []
    },
    {
      "cell_type": "code",
      "metadata": {
        "colab": {
          "base_uri": "https://localhost:8080/",
          "height": 388
        },
        "id": "XmvkRbdKo713",
        "outputId": "bace54cd-dfac-4e9e-f7cf-799a3650e66e"
      },
      "source": [
        "lstLoss = []\n",
        "moduleNet.train()\n",
        "for intCurrentEpoch in range(intMaxEpoch):\n",
        "  for intBatchIdx, (tenImg, tenLabel) in enumerate(objTrainLoader):\n",
        "    tenImg = tenImg.cuda()\n",
        "    tenLabel = tenLabel.cuda()\n",
        "    objOptim.zero_grad()\n",
        "    tenOutput = moduleNet(tenImg)\n",
        "    tenLoss = -torch.mean(torch.sum(tenLabel * torch.log(tenOutput), dim=1))\n",
        "    tenLoss.backward()\n",
        "    objOptim.step()\n",
        "\n",
        "    lstLoss.append(tenLoss.item())\n",
        "    if intBatchIdx % 100 == 0:\n",
        "      print('{:<13s}{:<14s}{:<6s}{:<16s}{:<12s}{:<20.16f}'.format('Train Epoch: ', '[' + str(intCurrentEpoch) + '/' + str(intMaxEpoch) + ']', 'Step: ', '[' + str(intBatchIdx) + '/' + str(intMaxStep) + ']', 'train loss: ', tenLoss.item()))\n",
        "\n",
        "  intPos = 0\n",
        "  intNeg = 0\n",
        "  for intTestIdx, (tenTestImg, tenTestLabel) in enumerate(objTestLoader):\n",
        "    tenTestImg = tenTestImg.cuda()\n",
        "    tenTestLabel = tenTestLabel.cuda()\n",
        "    tenTestOutput = moduleNet(tenTestImg)\n",
        "    if torch.argmax(tenTestOutput) == torch.argmax(tenTestLabel):\n",
        "      intPos += 1\n",
        "    else:\n",
        "      intNeg += 1\n",
        "  fltAccuracy = intPos / (intPos+intNeg)\n",
        "  print('Accuracy: ' + str(fltAccuracy * 100))\n",
        "\n",
        "plt.plot(np.array(lstLoss))"
      ],
      "execution_count": null,
      "outputs": [
        {
          "output_type": "stream",
          "name": "stdout",
          "text": [
            "Train Epoch: [0/1]         Step: [0/469]         train loss: 2.3930902481079102  \n",
            "Train Epoch: [0/1]         Step: [100/469]       train loss: 0.5967060923576355  \n",
            "Train Epoch: [0/1]         Step: [200/469]       train loss: 0.3387930691242218  \n",
            "Train Epoch: [0/1]         Step: [300/469]       train loss: 0.3736903369426727  \n",
            "Train Epoch: [0/1]         Step: [400/469]       train loss: 0.3498384058475494  \n",
            "Accuracy: 91.73\n"
          ]
        },
        {
          "output_type": "execute_result",
          "data": {
            "text/plain": [
              "[<matplotlib.lines.Line2D at 0x7fc438e70a10>]"
            ]
          },
          "metadata": {},
          "execution_count": 31
        },
        {
          "output_type": "display_data",
          "data": {
            "image/png": "[encoded data removed]",
            "text/plain": [
              "<Figure size 432x288 with 1 Axes>"
            ]
          },
          "metadata": {
            "needs_background": "light"
          }
        }
      ]
    },
    {
      "cell_type": "code",
      "metadata": {
        "id": "1r7BMBux9fuZ"
      },
      "source": [
        "class CNN(torch.nn.Module):\n",
        "    def __init__(self):\n",
        "        super(CNN, self).__init__()\n",
        "        self.keep_prob = 0.5\n",
        "        # L1 ImgIn shape=(?, 28, 28, 1)\n",
        "        #    Conv     -> (?, 28, 28, 32)\n",
        "        #    Pool     -> (?, 14, 14, 32)\n",
        "        self.layer1 = torch.nn.Sequential(\n",
        "            torch.nn.Conv2d(1, 32, kernel_size=3, stride=1, padding=1),\n",
        "            torch.nn.ReLU(),\n",
        "            torch.nn.MaxPool2d(kernel_size=2, stride=2))\n",
        "        # L2 ImgIn shape=(?, 14, 14, 32)\n",
        "        #    Conv      ->(?, 14, 14, 64)\n",
        "        #    Pool      ->(?, 7, 7, 64)\n",
        "        self.layer2 = torch.nn.Sequential(\n",
        "            torch.nn.Conv2d(32, 64, kernel_size=3, stride=1, padding=1),\n",
        "            torch.nn.ReLU(),\n",
        "            torch.nn.MaxPool2d(kernel_size=2, stride=2))\n",
        "        # L3 ImgIn shape=(?, 7, 7, 64)\n",
        "        #    Conv      ->(?, 7, 7, 128)\n",
        "        #    Pool      ->(?, 4, 4, 128)\n",
        "        self.layer3 = torch.nn.Sequential(\n",
        "            torch.nn.Conv2d(64, 128, kernel_size=3, stride=1, padding=1),\n",
        "            torch.nn.ReLU(),\n",
        "            torch.nn.MaxPool2d(kernel_size=2, stride=2, padding=1))\n",
        "\n",
        "        # L4 FC 4x4x128 inputs -> 625 outputs\n",
        "        self.fc1 = torch.nn.Linear(4 * 4 * 128, 625, bias=True)\n",
        "        torch.nn.init.xavier_uniform_(self.fc1.weight)\n",
        "        self.layer4 = torch.nn.Sequential(\n",
        "            self.fc1,\n",
        "            torch.nn.ReLU(),\n",
        "            torch.nn.Dropout(p=1 - self.keep_prob))\n",
        "        # L5 Final FC 625 inputs -> 10 outputs\n",
        "        self.fc2 = torch.nn.Linear(625, 10, bias=True)\n",
        "        torch.nn.init.xavier_uniform_(self.fc2.weight)\n",
        "\n",
        "        self.softmax = torch.nn.Softmax(dim=1)\n",
        "\n",
        "    def forward(self, x):\n",
        "        out = self.layer1(x)\n",
        "        out = self.layer2(out)\n",
        "        out = self.layer3(out)\n",
        "        out = out.view(out.size(0), -1)   # Flatten them for FC\n",
        "        out = self.layer4(out)\n",
        "        out = self.fc2(out)\n",
        "        return self.softmax(out)"
      ],
      "execution_count": null,
      "outputs": []
    },
    {
      "cell_type": "code",
      "metadata": {
        "colab": {
          "base_uri": "https://localhost:8080/",
          "height": 523
        },
        "id": "QhtPccmOALsJ",
        "outputId": "6ecaef8d-911f-4735-f468-b2a75daa3637"
      },
      "source": [
        "moduleNet = CNN().cuda()\n",
        "\n",
        "intLR = 0.001\n",
        "intMaxEpoch = 1\n",
        "intBatchsize = 64\n",
        "\n",
        "objOptim = torch.optim.Adam(moduleNet.parameters(), lr=intLR)\n",
        "\n",
        "objTrainLoader = torch.utils.data.DataLoader(dataset=objTrainDataset, batch_size=intBatchsize, shuffle=True, num_workers=0)\n",
        "objTestLoader = torch.utils.data.DataLoader(dataset=objTestDataset, batch_size=1, shuffle=False, num_workers=0)\n",
        "\n",
        "intMaxStep = objTrainLoader.__len__()\n",
        "\n",
        "lstLoss = []\n",
        "for intCurrentEpoch in range(intMaxEpoch):\n",
        "  moduleNet.train()\n",
        "  for intBatchIdx, (tenImg, tenLabel) in enumerate(objTrainLoader):\n",
        "    tenImg = tenImg.cuda()\n",
        "    tenLabel = tenLabel.cuda()\n",
        "    objOptim.zero_grad()\n",
        "    tenOutput = moduleNet(tenImg)\n",
        "    tenLoss = -torch.mean(torch.sum(tenLabel * torch.log(tenOutput), dim=1))\n",
        "    tenLoss.backward()\n",
        "    objOptim.step()\n",
        "\n",
        "    lstLoss.append(tenLoss.item())\n",
        "    if intBatchIdx % 100 == 0:\n",
        "      print('{:<13s}{:<14s}{:<6s}{:<16s}{:<12s}{:<20.16f}'.format('Train Epoch: ', '[' + str(intCurrentEpoch) + '/' + str(intMaxEpoch) + ']', 'Step: ', '[' + str(intBatchIdx) + '/' + str(intMaxStep) + ']', 'train loss: ', tenLoss.item()))\n",
        "\n",
        "  moduleNet.eval()\n",
        "  intPos = 0\n",
        "  intNeg = 0\n",
        "  for intTestIdx, (tenTestImg, tenTestLabel) in enumerate(objTestLoader):\n",
        "    tenTestImg = tenTestImg.cuda()\n",
        "    tenTestLabel = tenTestLabel.cuda()\n",
        "    tenTestOutput = moduleNet(tenTestImg)\n",
        "    if torch.argmax(tenTestOutput) == torch.argmax(tenTestLabel):\n",
        "      intPos += 1\n",
        "    else:\n",
        "      intNeg += 1\n",
        "  fltAccuracy = intPos / (intPos+intNeg)\n",
        "  print('Accuracy: ' + str(fltAccuracy * 100))\n",
        "\n",
        "plt.plot(np.array(lstLoss))"
      ],
      "execution_count": null,
      "outputs": [
        {
          "output_type": "stream",
          "name": "stderr",
          "text": [
            "/usr/local/lib/python3.7/dist-packages/torch/nn/functional.py:718: UserWarning: Named tensors and all their associated APIs are an experimental feature and subject to change. Please do not use them for anything important until they are released as stable. (Triggered internally at  /pytorch/c10/core/TensorImpl.h:1156.)\n",
            "  return torch.max_pool2d(input, kernel_size, stride, padding, dilation, ceil_mode)\n"
          ]
        },
        {
          "output_type": "stream",
          "name": "stdout",
          "text": [
            "Train Epoch: [0/1]         Step: [0/938]         train loss: 2.3066964149475098  \n",
            "Train Epoch: [0/1]         Step: [100/938]       train loss: 0.2357195019721985  \n",
            "Train Epoch: [0/1]         Step: [200/938]       train loss: 0.1456762999296188  \n",
            "Train Epoch: [0/1]         Step: [300/938]       train loss: 0.1146382093429565  \n",
            "Train Epoch: [0/1]         Step: [400/938]       train loss: 0.1691207140684128  \n",
            "Train Epoch: [0/1]         Step: [500/938]       train loss: 0.0897983908653259  \n",
            "Train Epoch: [0/1]         Step: [600/938]       train loss: 0.0517986118793488  \n",
            "Train Epoch: [0/1]         Step: [700/938]       train loss: 0.0074440846219659  \n",
            "Train Epoch: [0/1]         Step: [800/938]       train loss: 0.0058855940587819  \n",
            "Train Epoch: [0/1]         Step: [900/938]       train loss: 0.0595463439822197  \n",
            "Accuracy: 98.74000000000001\n"
          ]
        },
        {
          "output_type": "execute_result",
          "data": {
            "text/plain": [
              "[<matplotlib.lines.Line2D at 0x7f00fe857150>]"
            ]
          },
          "metadata": {},
          "execution_count": 7
        },
        {
          "output_type": "display_data",
          "data": {
            "image/png": "[encoded data removed]",
            "text/plain": [
              "<Figure size 432x288 with 1 Axes>"
            ]
          },
          "metadata": {
            "needs_background": "light"
          }
        }
      ]
    },
    {
      "cell_type": "code",
      "metadata": {
        "colab": {
          "base_uri": "https://localhost:8080/",
          "height": 333
        },
        "id": "-8xRxnVAxRAd",
        "outputId": "c05eeb06-843e-40b7-9f28-8832205bd871"
      },
      "source": [
        "moduleToTensor = torchvision.transforms.ToTensor()\n",
        "\n",
        "strImdir = './mnist/testing/2/1002.png'\n",
        "pilImg = Image.open(strImdir)\n",
        "tenImg = moduleToTensor(pilImg).cuda()\n",
        "\n",
        "plt.imshow(tenImg.detach().squeeze().cpu().numpy())\n",
        "\n",
        "tenPred = moduleNet(tenImg.unsqueeze(0))\n",
        "print(tenPred)\n",
        "print(torch.argmax(tenPred))"
      ],
      "execution_count": null,
      "outputs": [
        {
          "output_type": "stream",
          "name": "stdout",
          "text": [
            "tensor([[2.9720e-05, 7.1035e-05, 9.9845e-01, 4.5122e-04, 5.0993e-09, 9.9159e-09,\n",
            "         4.2959e-08, 3.7538e-04, 6.1936e-04, 5.7109e-08]], device='cuda:0',\n",
            "       grad_fn=<SoftmaxBackward>)\n",
            "tensor(2, device='cuda:0')\n"
          ]
        },
        {
          "output_type": "display_data",
          "data": {
            "image/png": "[encoded data removed]",
            "text/plain": [
              "<Figure size 432x288 with 1 Axes>"
            ]
          },
          "metadata": {
            "needs_background": "light"
          }
        }
      ]
    },
    {
      "cell_type": "markdown",
      "metadata": {
        "id": "kvC8dHwNBmMp"
      },
      "source": [
        "## Other Dataset\n",
        "- CIFAR-10\n",
        "- ImageNet\n",
        "\n",
        "## Other CNN\n",
        "- ResNet\n",
        "- GoogleNet\n",
        "- VGG-Net"
      ]
    }
  ]
}